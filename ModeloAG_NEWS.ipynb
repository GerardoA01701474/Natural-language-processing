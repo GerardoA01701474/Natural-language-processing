{
  "cells": [
    {
      "cell_type": "markdown",
      "metadata": {},
      "source": [
        "- Gerardo Peña Pérez\n",
        "- Carlos Alberto \n",
        "- Kevin Joan \n",
        "- Wenguang Hu"
      ]
    },
    {
      "cell_type": "code",
      "execution_count": 1,
      "metadata": {
        "colab": {
          "base_uri": "https://localhost:8080/"
        },
        "id": "Bu0A8sd5Hrhf",
        "outputId": "3998db11-42c7-4ad0-9775-75c9631608a4"
      },
      "outputs": [
        {
          "name": "stdout",
          "output_type": "stream",
          "text": [
            "1.13.0+cu117\n"
          ]
        }
      ],
      "source": [
        "import torch\n",
        "print(torch.__version__)"
      ]
    },
    {
      "cell_type": "code",
      "execution_count": 2,
      "metadata": {
        "colab": {
          "base_uri": "https://localhost:8080/"
        },
        "id": "ogaWpStxDmjI",
        "outputId": "bad59d3c-e0c4-40b2-bc5e-08215f18a530"
      },
      "outputs": [
        {
          "name": "stdout",
          "output_type": "stream",
          "text": [
            "Found existing installation: torchtext 0.14.0\n",
            "Uninstalling torchtext-0.14.0:\n",
            "  Would remove:\n",
            "    /usr/local/lib/python3.7/dist-packages/torchtext-0.14.0.dist-info/*\n",
            "    /usr/local/lib/python3.7/dist-packages/torchtext/*\n",
            "Proceed (y/n)? y\n",
            "  Successfully uninstalled torchtext-0.14.0\n",
            "Looking in indexes: https://pypi.org/simple, https://us-python.pkg.dev/colab-wheels/public/simple/\n",
            "Collecting torchtext\n",
            "  Using cached torchtext-0.14.0-cp37-cp37m-manylinux1_x86_64.whl (2.0 MB)\n",
            "Requirement already satisfied: numpy in /usr/local/lib/python3.7/dist-packages (from torchtext) (1.21.6)\n",
            "Requirement already satisfied: tqdm in /usr/local/lib/python3.7/dist-packages (from torchtext) (4.64.1)\n",
            "Requirement already satisfied: requests in /usr/local/lib/python3.7/dist-packages (from torchtext) (2.23.0)\n",
            "Requirement already satisfied: torch==1.13.0 in /usr/local/lib/python3.7/dist-packages (from torchtext) (1.13.0)\n",
            "Requirement already satisfied: nvidia-cuda-runtime-cu11==11.7.99 in /usr/local/lib/python3.7/dist-packages (from torch==1.13.0->torchtext) (11.7.99)\n",
            "Requirement already satisfied: nvidia-cublas-cu11==11.10.3.66 in /usr/local/lib/python3.7/dist-packages (from torch==1.13.0->torchtext) (11.10.3.66)\n",
            "Requirement already satisfied: nvidia-cudnn-cu11==8.5.0.96 in /usr/local/lib/python3.7/dist-packages (from torch==1.13.0->torchtext) (8.5.0.96)\n",
            "Requirement already satisfied: typing-extensions in /usr/local/lib/python3.7/dist-packages (from torch==1.13.0->torchtext) (4.1.1)\n",
            "Requirement already satisfied: nvidia-cuda-nvrtc-cu11==11.7.99 in /usr/local/lib/python3.7/dist-packages (from torch==1.13.0->torchtext) (11.7.99)\n",
            "Requirement already satisfied: wheel in /usr/local/lib/python3.7/dist-packages (from nvidia-cublas-cu11==11.10.3.66->torch==1.13.0->torchtext) (0.38.4)\n",
            "Requirement already satisfied: setuptools in /usr/local/lib/python3.7/dist-packages (from nvidia-cublas-cu11==11.10.3.66->torch==1.13.0->torchtext) (57.4.0)\n",
            "Requirement already satisfied: certifi>=2017.4.17 in /usr/local/lib/python3.7/dist-packages (from requests->torchtext) (2022.9.24)\n",
            "Requirement already satisfied: chardet<4,>=3.0.2 in /usr/local/lib/python3.7/dist-packages (from requests->torchtext) (3.0.4)\n",
            "Requirement already satisfied: urllib3!=1.25.0,!=1.25.1,<1.26,>=1.21.1 in /usr/local/lib/python3.7/dist-packages (from requests->torchtext) (1.25.11)\n",
            "Requirement already satisfied: idna<3,>=2.5 in /usr/local/lib/python3.7/dist-packages (from requests->torchtext) (2.10)\n",
            "Installing collected packages: torchtext\n",
            "Successfully installed torchtext-0.14.0\n"
          ]
        }
      ],
      "source": [
        "!pip uninstall torchtext \n",
        "!pip install torchtext"
      ]
    },
    {
      "cell_type": "code",
      "execution_count": 3,
      "metadata": {
        "colab": {
          "base_uri": "https://localhost:8080/",
          "height": 331
        },
        "id": "UqVsBBseENw9",
        "outputId": "6a7c6a56-31ff-4de4-e432-0d7bb46ae814"
      },
      "outputs": [
        {
          "name": "stdout",
          "output_type": "stream",
          "text": [
            "Looking in indexes: https://pypi.org/simple, https://us-python.pkg.dev/colab-wheels/public/simple/\n",
            "Collecting torch==1.12.1\n",
            "  Using cached torch-1.12.1-cp37-cp37m-manylinux1_x86_64.whl (776.3 MB)\n",
            "Requirement already satisfied: typing-extensions in /usr/local/lib/python3.7/dist-packages (from torch==1.12.1) (4.1.1)\n",
            "Installing collected packages: torch\n",
            "  Attempting uninstall: torch\n",
            "    Found existing installation: torch 1.13.0\n",
            "    Uninstalling torch-1.13.0:\n",
            "      Successfully uninstalled torch-1.13.0\n",
            "\u001b[31mERROR: pip's dependency resolver does not currently take into account all the packages that are installed. This behaviour is the source of the following dependency conflicts.\n",
            "torchdata 0.5.0 requires torch==1.13.0, but you have torch 1.12.1 which is incompatible.\u001b[0m\n",
            "Successfully installed torch-1.12.1\n"
          ]
        },
        {
          "data": {
            "application/vnd.colab-display-data+json": {
              "pip_warning": {
                "packages": [
                  "torch"
                ]
              }
            }
          },
          "metadata": {},
          "output_type": "display_data"
        }
      ],
      "source": [
        "!pip install torch==1.12.1"
      ]
    },
    {
      "cell_type": "code",
      "execution_count": 3,
      "metadata": {
        "id": "vWYFj_Q6_aNr"
      },
      "outputs": [],
      "source": [
        "import numpy as np\n",
        "#PyTorch libraries\n",
        "import torch\n",
        "from torchtext.datasets import AG_NEWS\n",
        "from torch import nn\n",
        "from torch.nn import functional as F\n",
        "# Dataset and dataloader\n",
        "from torch.utils.data import DataLoader\n",
        "from torch.utils.data.dataset import random_split\n",
        "# Libraries to prepare the data\n",
        "from torchtext.data.utils import get_tokenizer\n",
        "from torchtext.vocab import build_vocab_from_iterator\n",
        "from torchtext.data.functional import to_map_style_dataset"
      ]
    },
    {
      "cell_type": "code",
      "execution_count": null,
      "metadata": {
        "id": "3WktcTj0_9L5"
      },
      "outputs": [],
      "source": []
    },
    {
      "cell_type": "code",
      "execution_count": 4,
      "metadata": {
        "colab": {
          "base_uri": "https://localhost:8080/"
        },
        "id": "ClE_Lmjz_wWa",
        "outputId": "b861a76d-9eee-4d59-e8b4-4e59452f1544"
      },
      "outputs": [
        {
          "data": {
            "text/plain": [
              "True"
            ]
          },
          "execution_count": 4,
          "metadata": {},
          "output_type": "execute_result"
        }
      ],
      "source": [
        "torch.cuda.is_available()"
      ]
    },
    {
      "cell_type": "code",
      "execution_count": 5,
      "metadata": {
        "colab": {
          "base_uri": "https://localhost:8080/"
        },
        "id": "mlxnqTto_i6i",
        "outputId": "559830be-3630-4ace-b2fc-9ff5d4d35610"
      },
      "outputs": [
        {
          "name": "stdout",
          "output_type": "stream",
          "text": [
            "cuda\n"
          ]
        }
      ],
      "source": [
        "# Use Gpu\n",
        "device = torch.device('cuda' if torch.cuda.is_available() else 'cpu')\n",
        "print(device)"
      ]
    },
    {
      "cell_type": "code",
      "execution_count": 2,
      "metadata": {
        "colab": {
          "base_uri": "https://localhost:8080/"
        },
        "id": "uh9HLpDmAtPi",
        "outputId": "50b93c98-d8a0-4d27-f429-66b4e1b03b41"
      },
      "outputs": [
        {
          "name": "stdout",
          "output_type": "stream",
          "text": [
            "Looking in indexes: https://pypi.org/simple, https://us-python.pkg.dev/colab-wheels/public/simple/\n",
            "Requirement already satisfied: torchdata in /usr/local/lib/python3.7/dist-packages (0.5.0)\n",
            "Requirement already satisfied: requests in /usr/local/lib/python3.7/dist-packages (from torchdata) (2.23.0)\n",
            "Requirement already satisfied: urllib3>=1.25 in /usr/local/lib/python3.7/dist-packages (from torchdata) (1.25.11)\n",
            "Requirement already satisfied: torch==1.13.0 in /usr/local/lib/python3.7/dist-packages (from torchdata) (1.13.0)\n",
            "Requirement already satisfied: portalocker>=2.0.0 in /usr/local/lib/python3.7/dist-packages (from torchdata) (2.6.0)\n",
            "Requirement already satisfied: nvidia-cudnn-cu11==8.5.0.96 in /usr/local/lib/python3.7/dist-packages (from torch==1.13.0->torchdata) (8.5.0.96)\n",
            "Requirement already satisfied: nvidia-cuda-nvrtc-cu11==11.7.99 in /usr/local/lib/python3.7/dist-packages (from torch==1.13.0->torchdata) (11.7.99)\n",
            "Requirement already satisfied: nvidia-cublas-cu11==11.10.3.66 in /usr/local/lib/python3.7/dist-packages (from torch==1.13.0->torchdata) (11.10.3.66)\n",
            "Requirement already satisfied: nvidia-cuda-runtime-cu11==11.7.99 in /usr/local/lib/python3.7/dist-packages (from torch==1.13.0->torchdata) (11.7.99)\n",
            "Requirement already satisfied: typing-extensions in /usr/local/lib/python3.7/dist-packages (from torch==1.13.0->torchdata) (4.1.1)\n",
            "Requirement already satisfied: setuptools in /usr/local/lib/python3.7/dist-packages (from nvidia-cublas-cu11==11.10.3.66->torch==1.13.0->torchdata) (57.4.0)\n",
            "Requirement already satisfied: wheel in /usr/local/lib/python3.7/dist-packages (from nvidia-cublas-cu11==11.10.3.66->torch==1.13.0->torchdata) (0.38.4)\n",
            "Requirement already satisfied: chardet<4,>=3.0.2 in /usr/local/lib/python3.7/dist-packages (from requests->torchdata) (3.0.4)\n",
            "Requirement already satisfied: certifi>=2017.4.17 in /usr/local/lib/python3.7/dist-packages (from requests->torchdata) (2022.9.24)\n",
            "Requirement already satisfied: idna<3,>=2.5 in /usr/local/lib/python3.7/dist-packages (from requests->torchdata) (2.10)\n"
          ]
        }
      ],
      "source": [
        "!pip install torchdata"
      ]
    },
    {
      "cell_type": "code",
      "execution_count": 6,
      "metadata": {
        "id": "uo7_mHXZAEiy"
      },
      "outputs": [],
      "source": [
        "train_dataset,  test_dataset = AG_NEWS()"
      ]
    },
    {
      "cell_type": "code",
      "execution_count": 7,
      "metadata": {
        "id": "Ww7qMmTIADh-"
      },
      "outputs": [],
      "source": [
        "train_dataset, test_dataset = to_map_style_dataset(train_dataset), to_map_style_dataset(test_dataset)"
      ]
    },
    {
      "cell_type": "code",
      "execution_count": 8,
      "metadata": {
        "colab": {
          "base_uri": "https://localhost:8080/"
        },
        "id": "1tlgrNdm_iTX",
        "outputId": "6e2d5c73-5ce7-49eb-9ba4-03efe7785671"
      },
      "outputs": [
        {
          "data": {
            "text/plain": [
              "(120000, 7600)"
            ]
          },
          "execution_count": 8,
          "metadata": {},
          "output_type": "execute_result"
        }
      ],
      "source": [
        "len(train_dataset), len(test_dataset)"
      ]
    },
    {
      "cell_type": "code",
      "execution_count": 9,
      "metadata": {
        "colab": {
          "base_uri": "https://localhost:8080/"
        },
        "id": "rV6SdztXC-mO",
        "outputId": "790f0d00-dd6f-4d0b-ab61-e6e58654fc14"
      },
      "outputs": [
        {
          "data": {
            "text/plain": [
              "[(3,\n",
              "  \"Wall St. Bears Claw Back Into the Black (Reuters) Reuters - Short-sellers, Wall Street's dwindling\\\\band of ultra-cynics, are seeing green again.\"),\n",
              " (3,\n",
              "  'Carlyle Looks Toward Commercial Aerospace (Reuters) Reuters - Private investment firm Carlyle Group,\\\\which has a reputation for making well-timed and occasionally\\\\controversial plays in the defense industry, has quietly placed\\\\its bets on another part of the market.'),\n",
              " (3,\n",
              "  \"Oil and Economy Cloud Stocks' Outlook (Reuters) Reuters - Soaring crude prices plus worries\\\\about the economy and the outlook for earnings are expected to\\\\hang over the stock market next week during the depth of the\\\\summer doldrums.\"),\n",
              " (3,\n",
              "  'Iraq Halts Oil Exports from Main Southern Pipeline (Reuters) Reuters - Authorities have halted oil export\\\\flows from the main pipeline in southern Iraq after\\\\intelligence showed a rebel militia could strike\\\\infrastructure, an oil official said on Saturday.'),\n",
              " (3,\n",
              "  'Oil prices soar to all-time record, posing new menace to US economy (AFP) AFP - Tearaway world oil prices, toppling records and straining wallets, present a new economic menace barely three months before the US presidential elections.'),\n",
              " (3,\n",
              "  'Stocks End Up, But Near Year Lows (Reuters) Reuters - Stocks ended slightly higher on Friday\\\\but stayed near lows for the year as oil prices surged past  #36;46\\\\a barrel, offsetting a positive outlook from computer maker\\\\Dell Inc. (DELL.O)'),\n",
              " (3,\n",
              "  \"Money Funds Fell in Latest Week (AP) AP - Assets of the nation's retail money market mutual funds fell by  #36;1.17 billion in the latest week to  #36;849.98 trillion, the Investment Company Institute said Thursday.\"),\n",
              " (3,\n",
              "  'Fed minutes show dissent over inflation (USATODAY.com) USATODAY.com - Retail sales bounced back a bit in July, and new claims for jobless benefits fell last week, the government said Thursday, indicating the economy is improving from a midsummer slump.'),\n",
              " (3,\n",
              "  'Safety Net (Forbes.com) Forbes.com - After earning a PH.D. in Sociology, Danny Bazil Riley started to work as the general manager at a commercial real estate firm at an annual base salary of  #36;70,000. Soon after, a financial planner stopped by his desk to drop off brochures about insurance benefits available through his employer. But, at 32, \"buying insurance was the furthest thing from my mind,\" says Riley.'),\n",
              " (3,\n",
              "  \"Wall St. Bears Claw Back Into the Black  NEW YORK (Reuters) - Short-sellers, Wall Street's dwindling  band of ultra-cynics, are seeing green again.\")]"
            ]
          },
          "execution_count": 9,
          "metadata": {},
          "output_type": "execute_result"
        }
      ],
      "source": [
        "train_dataset[:10]"
      ]
    },
    {
      "cell_type": "code",
      "execution_count": 10,
      "metadata": {
        "id": "GF_GOzndDpeO"
      },
      "outputs": [],
      "source": [
        "tokeniser = get_tokenizer('basic_english')\n",
        "def yield_tokens(data):\n",
        "  for _, text in data:\n",
        "    yield tokeniser(text)"
      ]
    },
    {
      "cell_type": "code",
      "execution_count": 11,
      "metadata": {
        "id": "pFNhwLrcDo9y"
      },
      "outputs": [],
      "source": [
        "vocab = build_vocab_from_iterator(yield_tokens(train_dataset), specials=['<unk>'])\n",
        "vocab.set_default_index(vocab['<unk>'])"
      ]
    },
    {
      "cell_type": "code",
      "execution_count": 12,
      "metadata": {
        "colab": {
          "base_uri": "https://localhost:8080/"
        },
        "id": "DzqCFvXP_gBF",
        "outputId": "034cc616-6564-46c6-d1b9-6d988b3adfa1"
      },
      "outputs": [
        {
          "data": {
            "text/plain": [
              "95811"
            ]
          },
          "execution_count": 12,
          "metadata": {},
          "output_type": "execute_result"
        }
      ],
      "source": [
        "len(vocab)"
      ]
    },
    {
      "cell_type": "code",
      "execution_count": 13,
      "metadata": {
        "colab": {
          "base_uri": "https://localhost:8080/"
        },
        "id": "ueaVr_hWEqdU",
        "outputId": "32c82941-b1bd-488a-bd7b-cb171d477902"
      },
      "outputs": [
        {
          "name": "stdout",
          "output_type": "stream",
          "text": [
            "0 <unk>\n",
            "1 .\n",
            "2 the\n",
            "3 ,\n",
            "4 to\n",
            "5 a\n",
            "6 of\n",
            "7 in\n",
            "8 and\n",
            "9 s\n",
            "10 on\n",
            "11 for\n",
            "12 #39\n",
            "13 (\n",
            "14 )\n",
            "15 -\n",
            "16 '\n",
            "17 that\n",
            "18 with\n",
            "19 as\n"
          ]
        }
      ],
      "source": [
        "for i in range(20):\n",
        "  print(i, vocab.lookup_token(i))"
      ]
    },
    {
      "cell_type": "code",
      "execution_count": 14,
      "metadata": {
        "colab": {
          "base_uri": "https://localhost:8080/"
        },
        "id": "BwCqHuliE_aY",
        "outputId": "535e3aa9-cfef-4308-fd9c-b45ec83540c6"
      },
      "outputs": [
        {
          "name": "stdout",
          "output_type": "stream",
          "text": [
            "['welcome', 'to', 'te3007b'] [3314, 4, 0]\n"
          ]
        }
      ],
      "source": [
        "tokens = tokeniser('Welcome to TE3007B')\n",
        "print(tokens, vocab(tokens))"
      ]
    },
    {
      "cell_type": "code",
      "execution_count": 15,
      "metadata": {
        "id": "1r4FCk7lFnrb"
      },
      "outputs": [],
      "source": [
        "NUM_TRAIN = int(len(train_dataset) * 0.9)\n",
        "NUM_VAL =len(train_dataset) - NUM_TRAIN"
      ]
    },
    {
      "cell_type": "code",
      "execution_count": 16,
      "metadata": {
        "colab": {
          "base_uri": "https://localhost:8080/"
        },
        "id": "yeb8c6VGEqHb",
        "outputId": "c2b3e91e-d7a0-4c24-f587-d2dd38aaf979"
      },
      "outputs": [
        {
          "data": {
            "text/plain": [
              "12000"
            ]
          },
          "execution_count": 16,
          "metadata": {},
          "output_type": "execute_result"
        }
      ],
      "source": [
        "NUM_VAL"
      ]
    },
    {
      "cell_type": "code",
      "execution_count": 17,
      "metadata": {
        "id": "HLBKs-GAGJMN"
      },
      "outputs": [],
      "source": [
        "train_dataset, val_dataset = random_split(train_dataset, [NUM_TRAIN, NUM_VAL])"
      ]
    },
    {
      "cell_type": "code",
      "execution_count": 18,
      "metadata": {
        "colab": {
          "base_uri": "https://localhost:8080/"
        },
        "id": "JseOELELGI-E",
        "outputId": "3217ad4a-c7e2-4082-c78a-5e67aead7b5f"
      },
      "outputs": [
        {
          "data": {
            "text/plain": [
              "(108000, 12000, 7600)"
            ]
          },
          "execution_count": 18,
          "metadata": {},
          "output_type": "execute_result"
        }
      ],
      "source": [
        "len(train_dataset), len(val_dataset), len(test_dataset)"
      ]
    },
    {
      "cell_type": "code",
      "execution_count": 19,
      "metadata": {
        "id": "RrRcSoXQIx3Q"
      },
      "outputs": [],
      "source": [
        "max_tokens = 50"
      ]
    },
    {
      "cell_type": "code",
      "execution_count": 20,
      "metadata": {
        "id": "Jz7QjzBVGywI"
      },
      "outputs": [],
      "source": [
        "def collate_batch(batch):\n",
        "  y, x = list(zip(*batch))\n",
        "  #create list with tokens\n",
        "  x = [vocab(tokeniser(text)) for text in x]\n",
        "  # padding or clipping\n",
        "  x = [t + ([0]*(max_tokens - len(t))) if len(t) < max_tokens else t[:max_tokens] for t in x]\n",
        "  return torch.tensor(x, dtype=torch.long), torch.tensor(y, dtype=torch.long)-1"
      ]
    },
    {
      "cell_type": "code",
      "execution_count": 21,
      "metadata": {
        "id": "nOXI_QGcJ0jA"
      },
      "outputs": [],
      "source": [
        "labels = ['World', 'Sports', 'Business', 'Sci/Tech']\n",
        "BATCH_SIZE = 1024"
      ]
    },
    {
      "cell_type": "code",
      "execution_count": 22,
      "metadata": {
        "id": "QP3zmu-XKIAj"
      },
      "outputs": [],
      "source": [
        "# DataLoaders\n",
        "train_loader = DataLoader(train_dataset, \n",
        "                          batch_size=BATCH_SIZE,\n",
        "                          collate_fn=collate_batch,\n",
        "                          shuffle = True)\n",
        "val_loader = DataLoader(val_dataset, \n",
        "                          batch_size=BATCH_SIZE,\n",
        "                          collate_fn=collate_batch,\n",
        "                          shuffle = True)\n",
        "test_loader = DataLoader(test_dataset, \n",
        "                          batch_size=BATCH_SIZE,\n",
        "                          collate_fn=collate_batch,\n",
        "                          shuffle = True)"
      ]
    },
    {
      "cell_type": "code",
      "execution_count": 23,
      "metadata": {
        "colab": {
          "base_uri": "https://localhost:8080/"
        },
        "id": "7lCS_eIYKHwl",
        "outputId": "3fce4dec-4c78-44be-91ae-f4ea2df24309"
      },
      "outputs": [
        {
          "name": "stdout",
          "output_type": "stream",
          "text": [
            "0 torch.Size([1024, 50]) torch.Size([1024])\n",
            "1 torch.Size([1024, 50]) torch.Size([1024])\n",
            "2 torch.Size([1024, 50]) torch.Size([1024])\n",
            "3 torch.Size([1024, 50]) torch.Size([1024])\n",
            "4 torch.Size([1024, 50]) torch.Size([1024])\n",
            "5 torch.Size([1024, 50]) torch.Size([1024])\n",
            "6 torch.Size([1024, 50]) torch.Size([1024])\n",
            "7 torch.Size([432, 50]) torch.Size([432])\n"
          ]
        }
      ],
      "source": [
        "for i, (x, y) in enumerate(test_loader):\n",
        "  print(i, x.shape, y.shape)"
      ]
    },
    {
      "cell_type": "code",
      "execution_count": 24,
      "metadata": {
        "id": "27Oo55qtLTtv"
      },
      "outputs": [],
      "source": [
        "#let us build our RNN"
      ]
    },
    {
      "cell_type": "code",
      "execution_count": 43,
      "metadata": {
        "id": "85PLhr9bLcKD"
      },
      "outputs": [],
      "source": [
        "EMBEDDING_SIZE = 300\n",
        "NEURONS = 400 #hidden\n",
        "LAYERS = 4\n",
        "NUM_CLASSES = 4"
      ]
    },
    {
      "cell_type": "code",
      "execution_count": 44,
      "metadata": {
        "id": "4SmE6OyqKHiw"
      },
      "outputs": [],
      "source": [
        "class RNN_Model_1(nn.Module):\n",
        "  def __init__(self, embed_size, hidden, layers, num_classes):\n",
        "    super().__init__()\n",
        "    self.embedding_layer = nn.Embedding(num_embeddings=len(vocab),\n",
        "                                        embedding_dim=embed_size)\n",
        "    \n",
        "    self.rnn = nn.GRU(input_size=embed_size,\n",
        "                      hidden_size = hidden,\n",
        "                      num_layers = layers,\n",
        "                      batch_first = True)\n",
        "\n",
        "    self.fc = nn.Linear(in_features=hidden, out_features= num_classes)\n",
        "\n",
        "  def forward(self, x):\n",
        "    vector_embs = self.embedding_layer(x)\n",
        "    y, h = self.rnn(vector_embs)\n",
        "    return self.fc(y[:,-1])\n",
        "    "
      ]
    },
    {
      "cell_type": "code",
      "execution_count": 45,
      "metadata": {
        "id": "QVnQqnzjOmh9"
      },
      "outputs": [],
      "source": [
        "rnn_model = RNN_Model_1(EMBEDDING_SIZE, NEURONS, LAYERS, NUM_CLASSES)"
      ]
    },
    {
      "cell_type": "code",
      "execution_count": 46,
      "metadata": {
        "colab": {
          "base_uri": "https://localhost:8080/"
        },
        "id": "eoqx6jZPKHSO",
        "outputId": "f108d1fd-fbf4-497c-8a28-abf36fdee0a1"
      },
      "outputs": [
        {
          "data": {
            "text/plain": [
              "RNN_Model_1(\n",
              "  (embedding_layer): Embedding(95811, 300)\n",
              "  (rnn): GRU(300, 400, num_layers=4, batch_first=True)\n",
              "  (fc): Linear(in_features=400, out_features=4, bias=True)\n",
              ")"
            ]
          },
          "execution_count": 46,
          "metadata": {},
          "output_type": "execute_result"
        }
      ],
      "source": [
        "rnn_model"
      ]
    },
    {
      "cell_type": "code",
      "execution_count": 47,
      "metadata": {
        "id": "MiNQrNyJO9Fd"
      },
      "outputs": [],
      "source": [
        "def accuracy(model, loader):\n",
        "    num_correct = 0\n",
        "    num_total = 0\n",
        "    model.eval()\n",
        "    model = model.to(device=device)\n",
        "    with torch.no_grad():\n",
        "        for x, y in loader:\n",
        "            x = x.to(device=device, dtype = torch.long)\n",
        "            y = y.to(device=device, dtype = torch.long)\n",
        "            scores = model(x)\n",
        "            _, preds = scores.max(dim=1)\n",
        "            num_correct += (preds == y).sum()\n",
        "            num_total += preds.size(0)\n",
        "        acc = float(num_correct)/num_total\n",
        "        return acc"
      ]
    },
    {
      "cell_type": "code",
      "execution_count": 48,
      "metadata": {
        "id": "HqpYk5hYO8zK"
      },
      "outputs": [],
      "source": [
        "def train(model, optimiser, epochs=100):\n",
        "  model = model.to(device=device)\n",
        "  for epoch in range(epochs):\n",
        "    for i, (x, y) in enumerate(train_loader):\n",
        "      model.train()\n",
        "      x = x.to(device=device, dtype=torch.long)\n",
        "      y = y.to(device=device, dtype=torch.long)\n",
        "      # run model\n",
        "      scores = model(x)\n",
        "      # compute cost\n",
        "      cost = F.cross_entropy(input=scores, target=y)\n",
        "      # reset gradient\n",
        "      optimiser.zero_grad()\n",
        "      # compute gradient\n",
        "      cost.backward()\n",
        "      # update parameter\n",
        "      optimiser.step()\n",
        "    acc = accuracy(model, val_loader)\n",
        "    print(f'Epoch {epoch}, costo {cost.item():.4f}, val acc {acc:.4f}')\n"
      ]
    },
    {
      "cell_type": "code",
      "execution_count": 49,
      "metadata": {
        "id": "Y_RGXqe4Jz9y"
      },
      "outputs": [],
      "source": [
        "epochs = 10\n",
        "lr = 0.0004\n",
        "\n",
        "rnn_model = RNN_Model_1(EMBEDDING_SIZE, NEURONS, LAYERS, NUM_CLASSES)\n",
        "optimiser = torch.optim.Adam(rnn_model.parameters(), lr=lr)"
      ]
    },
    {
      "cell_type": "code",
      "execution_count": 50,
      "metadata": {
        "colab": {
          "base_uri": "https://localhost:8080/"
        },
        "id": "uYmGSL9I_bP3",
        "outputId": "071dbaf8-700d-47ef-dc54-0acfaeb6c003"
      },
      "outputs": [
        {
          "name": "stdout",
          "output_type": "stream",
          "text": [
            "Epoch 0, costo 0.4922, val acc 0.8217\n",
            "Epoch 1, costo 0.3511, val acc 0.8822\n",
            "Epoch 2, costo 0.2765, val acc 0.8912\n",
            "Epoch 3, costo 0.2301, val acc 0.8912\n",
            "Epoch 4, costo 0.1957, val acc 0.8975\n",
            "Epoch 5, costo 0.1651, val acc 0.9017\n",
            "Epoch 6, costo 0.1333, val acc 0.9023\n",
            "Epoch 7, costo 0.1237, val acc 0.9076\n",
            "Epoch 8, costo 0.1103, val acc 0.9033\n",
            "Epoch 9, costo 0.0644, val acc 0.9044\n"
          ]
        }
      ],
      "source": [
        "train(rnn_model, optimiser, epochs)"
      ]
    },
    {
      "cell_type": "code",
      "execution_count": 51,
      "metadata": {
        "colab": {
          "base_uri": "https://localhost:8080/"
        },
        "id": "aodsTWcVSUrx",
        "outputId": "979909d1-1526-41b6-f804-b058d05a9ce7"
      },
      "outputs": [
        {
          "name": "stdout",
          "output_type": "stream",
          "text": [
            "0.9041\n"
          ]
        }
      ],
      "source": [
        "print(f'{accuracy(rnn_model, test_loader):.4f}')"
      ]
    },
    {
      "cell_type": "code",
      "execution_count": null,
      "metadata": {
        "id": "Vtc-bf5YCmtg"
      },
      "outputs": [],
      "source": []
    }
  ],
  "metadata": {
    "accelerator": "GPU",
    "colab": {
      "provenance": []
    },
    "kernelspec": {
      "display_name": "Python 3.10.2 64-bit",
      "language": "python",
      "name": "python3"
    },
    "language_info": {
      "name": "python",
      "version": "3.10.2"
    },
    "vscode": {
      "interpreter": {
        "hash": "94fd35bdfbdadf0cce7f7ebd34d4304e9f552af4e7bb7e536a3d4281b53fd810"
      }
    }
  },
  "nbformat": 4,
  "nbformat_minor": 0
}
